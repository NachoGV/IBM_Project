{
 "cells": [
  {
   "cell_type": "markdown",
   "metadata": {},
   "source": [
    "# Unraveling Wine Quality Patterns - Model Definition / Training / Tunning\n",
    "    IBM Data Science Capstone Project"
   ]
  },
  {
   "cell_type": "markdown",
   "metadata": {},
   "source": [
    "## REPORT"
   ]
  },
  {
   "cell_type": "markdown",
   "metadata": {},
   "source": [
    "The first goal of this project is to find the best **Machine Learning** model to both predict the wine quialty based on its chemical properties and to undertand the patterns with a second model that can easily classify the wine into red or white based on the same chemical properties (the color will also be used as a feature for the quality prediction model as one chemical property could be good for a red wine and bad for a white wine).\n",
    "\n",
    "The procedure will be as follows:\n",
    "1. Find the best features for each model\n",
    "2. Find the best hyperparameters for each model\n",
    "3. Train the best combination\n",
    "4. Evaluate it\n",
    "5. Compare with the other models and select the best one\n",
    "6. Interpret the results\n",
    "\n",
    "The second goal will be to train two **Deep Learning** models to compare with the best **Machine Learning** models and to see if the patterns are better understood using DL."
   ]
  },
  {
   "cell_type": "markdown",
   "metadata": {},
   "source": [
    "## Environment Set Up"
   ]
  },
  {
   "cell_type": "markdown",
   "metadata": {},
   "source": [
    "### Requisites"
   ]
  },
  {
   "cell_type": "code",
   "execution_count": 1,
   "metadata": {},
   "outputs": [
    {
     "name": "stdout",
     "output_type": "stream",
     "text": [
      "Requirement already satisfied: pandas in c:\\users\\ignac\\anaconda3\\lib\\site-packages (1.4.2)\n",
      "Requirement already satisfied: matplotlib in c:\\users\\ignac\\anaconda3\\lib\\site-packages (3.8.1)\n",
      "Requirement already satisfied: scikit-learn in c:\\users\\ignac\\anaconda3\\lib\\site-packages (1.3.0)\n",
      "Requirement already satisfied: tqdm in c:\\users\\ignac\\anaconda3\\lib\\site-packages (4.64.0)\n",
      "Requirement already satisfied: torch in c:\\users\\ignac\\anaconda3\\lib\\site-packages (2.0.1)\n",
      "Requirement already satisfied: numpy>=1.18.5 in c:\\users\\ignac\\anaconda3\\lib\\site-packages (from pandas) (1.22.4)\n",
      "Requirement already satisfied: pytz>=2020.1 in c:\\users\\ignac\\anaconda3\\lib\\site-packages (from pandas) (2021.3)\n",
      "Requirement already satisfied: python-dateutil>=2.8.1 in c:\\users\\ignac\\anaconda3\\lib\\site-packages (from pandas) (2.8.2)\n",
      "Requirement already satisfied: pyparsing>=2.3.1 in c:\\users\\ignac\\anaconda3\\lib\\site-packages (from matplotlib) (3.0.4)\n",
      "Requirement already satisfied: cycler>=0.10 in c:\\users\\ignac\\anaconda3\\lib\\site-packages (from matplotlib) (0.11.0)\n",
      "Requirement already satisfied: importlib-resources>=3.2.0 in c:\\users\\ignac\\anaconda3\\lib\\site-packages (from matplotlib) (6.1.1)\n",
      "Requirement already satisfied: kiwisolver>=1.3.1 in c:\\users\\ignac\\anaconda3\\lib\\site-packages (from matplotlib) (1.3.2)\n",
      "Requirement already satisfied: pillow>=8 in c:\\users\\ignac\\anaconda3\\lib\\site-packages (from matplotlib) (10.1.0)\n",
      "Requirement already satisfied: contourpy>=1.0.1 in c:\\users\\ignac\\anaconda3\\lib\\site-packages (from matplotlib) (1.2.0)\n",
      "Requirement already satisfied: packaging>=20.0 in c:\\users\\ignac\\anaconda3\\lib\\site-packages (from matplotlib) (21.3)\n",
      "Requirement already satisfied: fonttools>=4.22.0 in c:\\users\\ignac\\anaconda3\\lib\\site-packages (from matplotlib) (4.25.0)\n",
      "Requirement already satisfied: joblib>=1.1.1 in c:\\users\\ignac\\anaconda3\\lib\\site-packages (from scikit-learn) (1.3.2)\n",
      "Requirement already satisfied: scipy>=1.5.0 in c:\\users\\ignac\\anaconda3\\lib\\site-packages (from scikit-learn) (1.11.3)\n",
      "Requirement already satisfied: threadpoolctl>=2.0.0 in c:\\users\\ignac\\anaconda3\\lib\\site-packages (from scikit-learn) (2.2.0)\n",
      "Requirement already satisfied: colorama in c:\\users\\ignac\\anaconda3\\lib\\site-packages (from tqdm) (0.4.4)\n",
      "Requirement already satisfied: jinja2 in c:\\users\\ignac\\anaconda3\\lib\\site-packages (from torch) (2.11.3)\n",
      "Requirement already satisfied: filelock in c:\\users\\ignac\\anaconda3\\lib\\site-packages (from torch) (3.6.0)\n",
      "Requirement already satisfied: sympy in c:\\users\\ignac\\anaconda3\\lib\\site-packages (from torch) (1.10.1)\n",
      "Requirement already satisfied: networkx in c:\\users\\ignac\\anaconda3\\lib\\site-packages (from torch) (2.7.1)\n",
      "Requirement already satisfied: typing-extensions in c:\\users\\ignac\\anaconda3\\lib\\site-packages (from torch) (4.1.1)\n",
      "Requirement already satisfied: zipp>=3.1.0 in c:\\users\\ignac\\anaconda3\\lib\\site-packages (from importlib-resources>=3.2.0->matplotlib) (3.7.0)\n",
      "Requirement already satisfied: six>=1.5 in c:\\users\\ignac\\anaconda3\\lib\\site-packages (from python-dateutil>=2.8.1->pandas) (1.16.0)\n",
      "Requirement already satisfied: MarkupSafe>=0.23 in c:\\users\\ignac\\anaconda3\\lib\\site-packages (from jinja2->torch) (2.0.1)\n",
      "Requirement already satisfied: mpmath>=0.19 in c:\\users\\ignac\\anaconda3\\lib\\site-packages (from sympy->torch) (1.2.1)\n"
     ]
    }
   ],
   "source": [
    "!pip install pandas matplotlib scikit-learn tqdm torch"
   ]
  },
  {
   "cell_type": "markdown",
   "metadata": {},
   "source": [
    "### Imports"
   ]
  },
  {
   "cell_type": "code",
   "execution_count": 2,
   "metadata": {},
   "outputs": [],
   "source": [
    "import torch\n",
    "import pandas as pd\n",
    "import torch.nn as nn\n",
    "from tqdm import tqdm\n",
    "import torch.optim as optim\n",
    "from sklearn.svm import SVC\n",
    "import matplotlib.pyplot as plt\n",
    "from sklearn.feature_selection import SelectKBest\n",
    "from sklearn.linear_model import LogisticRegression\n",
    "from sklearn.neural_network import MLPRegressor, MLPClassifier\n",
    "from sklearn.model_selection import train_test_split, GridSearchCV\n",
    "from sklearn.ensemble import GradientBoostingRegressor, GradientBoostingClassifier, RandomForestRegressor, RandomForestClassifier"
   ]
  },
  {
   "cell_type": "markdown",
   "metadata": {},
   "source": [
    "### Config"
   ]
  },
  {
   "cell_type": "code",
   "execution_count": 3,
   "metadata": {},
   "outputs": [
    {
     "data": {
      "text/plain": [
       "<torch._C.Generator at 0x29b5a7881b0>"
      ]
     },
     "execution_count": 3,
     "metadata": {},
     "output_type": "execute_result"
    }
   ],
   "source": [
    "%matplotlib inline\n",
    "pd.set_option('display.max_columns', None)\n",
    "torch.manual_seed(33)"
   ]
  },
  {
   "cell_type": "markdown",
   "metadata": {},
   "source": [
    "## Load Data"
   ]
  },
  {
   "cell_type": "code",
   "execution_count": 4,
   "metadata": {},
   "outputs": [
    {
     "data": {
      "text/html": [
       "<div>\n",
       "<style scoped>\n",
       "    .dataframe tbody tr th:only-of-type {\n",
       "        vertical-align: middle;\n",
       "    }\n",
       "\n",
       "    .dataframe tbody tr th {\n",
       "        vertical-align: top;\n",
       "    }\n",
       "\n",
       "    .dataframe thead th {\n",
       "        text-align: right;\n",
       "    }\n",
       "</style>\n",
       "<table border=\"1\" class=\"dataframe\">\n",
       "  <thead>\n",
       "    <tr style=\"text-align: right;\">\n",
       "      <th></th>\n",
       "      <th>fixed_acidity</th>\n",
       "      <th>volatile_acidity</th>\n",
       "      <th>citric_acid</th>\n",
       "      <th>residual_sugar</th>\n",
       "      <th>chlorides</th>\n",
       "      <th>free_sulfur_dioxide</th>\n",
       "      <th>total_sulfur_dioxide</th>\n",
       "      <th>density</th>\n",
       "      <th>pH</th>\n",
       "      <th>sulphates</th>\n",
       "      <th>alcohol</th>\n",
       "      <th>quality</th>\n",
       "      <th>color_red</th>\n",
       "      <th>color_white</th>\n",
       "      <th>color</th>\n",
       "    </tr>\n",
       "  </thead>\n",
       "  <tbody>\n",
       "    <tr>\n",
       "      <th>0</th>\n",
       "      <td>0.142473</td>\n",
       "      <td>2.188833</td>\n",
       "      <td>-2.192833</td>\n",
       "      <td>-0.744778</td>\n",
       "      <td>0.569958</td>\n",
       "      <td>-1.100140</td>\n",
       "      <td>-1.446359</td>\n",
       "      <td>1.034993</td>\n",
       "      <td>1.813090</td>\n",
       "      <td>0.193097</td>\n",
       "      <td>-0.915464</td>\n",
       "      <td>5</td>\n",
       "      <td>1</td>\n",
       "      <td>0</td>\n",
       "      <td>red</td>\n",
       "    </tr>\n",
       "    <tr>\n",
       "      <th>1</th>\n",
       "      <td>0.451036</td>\n",
       "      <td>3.282235</td>\n",
       "      <td>-2.192833</td>\n",
       "      <td>-0.597640</td>\n",
       "      <td>1.197975</td>\n",
       "      <td>-0.311320</td>\n",
       "      <td>-0.862469</td>\n",
       "      <td>0.701486</td>\n",
       "      <td>-0.115073</td>\n",
       "      <td>0.999579</td>\n",
       "      <td>-0.580068</td>\n",
       "      <td>5</td>\n",
       "      <td>1</td>\n",
       "      <td>0</td>\n",
       "      <td>red</td>\n",
       "    </tr>\n",
       "    <tr>\n",
       "      <th>2</th>\n",
       "      <td>0.451036</td>\n",
       "      <td>2.553300</td>\n",
       "      <td>-1.917553</td>\n",
       "      <td>-0.660699</td>\n",
       "      <td>1.026697</td>\n",
       "      <td>-0.874763</td>\n",
       "      <td>-1.092486</td>\n",
       "      <td>0.768188</td>\n",
       "      <td>0.258120</td>\n",
       "      <td>0.797958</td>\n",
       "      <td>-0.580068</td>\n",
       "      <td>5</td>\n",
       "      <td>1</td>\n",
       "      <td>0</td>\n",
       "      <td>red</td>\n",
       "    </tr>\n",
       "    <tr>\n",
       "      <th>3</th>\n",
       "      <td>3.073817</td>\n",
       "      <td>-0.362438</td>\n",
       "      <td>1.661085</td>\n",
       "      <td>-0.744778</td>\n",
       "      <td>0.541412</td>\n",
       "      <td>-0.762074</td>\n",
       "      <td>-0.986324</td>\n",
       "      <td>1.101694</td>\n",
       "      <td>-0.363868</td>\n",
       "      <td>0.327510</td>\n",
       "      <td>-0.580068</td>\n",
       "      <td>6</td>\n",
       "      <td>1</td>\n",
       "      <td>0</td>\n",
       "      <td>red</td>\n",
       "    </tr>\n",
       "    <tr>\n",
       "      <th>4</th>\n",
       "      <td>0.142473</td>\n",
       "      <td>2.188833</td>\n",
       "      <td>-2.192833</td>\n",
       "      <td>-0.744778</td>\n",
       "      <td>0.569958</td>\n",
       "      <td>-1.100140</td>\n",
       "      <td>-1.446359</td>\n",
       "      <td>1.034993</td>\n",
       "      <td>1.813090</td>\n",
       "      <td>0.193097</td>\n",
       "      <td>-0.915464</td>\n",
       "      <td>5</td>\n",
       "      <td>1</td>\n",
       "      <td>0</td>\n",
       "      <td>red</td>\n",
       "    </tr>\n",
       "    <tr>\n",
       "      <th>...</th>\n",
       "      <td>...</td>\n",
       "      <td>...</td>\n",
       "      <td>...</td>\n",
       "      <td>...</td>\n",
       "      <td>...</td>\n",
       "      <td>...</td>\n",
       "      <td>...</td>\n",
       "      <td>...</td>\n",
       "      <td>...</td>\n",
       "      <td>...</td>\n",
       "      <td>...</td>\n",
       "      <td>...</td>\n",
       "      <td>...</td>\n",
       "      <td>...</td>\n",
       "      <td>...</td>\n",
       "    </tr>\n",
       "    <tr>\n",
       "      <th>6492</th>\n",
       "      <td>-0.783214</td>\n",
       "      <td>-0.787650</td>\n",
       "      <td>-0.197054</td>\n",
       "      <td>-0.807837</td>\n",
       "      <td>-0.486252</td>\n",
       "      <td>-0.367664</td>\n",
       "      <td>-0.420128</td>\n",
       "      <td>-1.186161</td>\n",
       "      <td>0.320319</td>\n",
       "      <td>-0.210144</td>\n",
       "      <td>0.593818</td>\n",
       "      <td>6</td>\n",
       "      <td>0</td>\n",
       "      <td>1</td>\n",
       "      <td>white</td>\n",
       "    </tr>\n",
       "    <tr>\n",
       "      <th>6493</th>\n",
       "      <td>-0.474652</td>\n",
       "      <td>-0.119460</td>\n",
       "      <td>0.284686</td>\n",
       "      <td>0.537425</td>\n",
       "      <td>-0.257883</td>\n",
       "      <td>1.491697</td>\n",
       "      <td>0.924588</td>\n",
       "      <td>0.067824</td>\n",
       "      <td>-0.426067</td>\n",
       "      <td>-0.478971</td>\n",
       "      <td>-0.747766</td>\n",
       "      <td>5</td>\n",
       "      <td>0</td>\n",
       "      <td>1</td>\n",
       "      <td>white</td>\n",
       "    </tr>\n",
       "    <tr>\n",
       "      <th>6494</th>\n",
       "      <td>-0.551792</td>\n",
       "      <td>-0.605417</td>\n",
       "      <td>-0.885253</td>\n",
       "      <td>-0.891916</td>\n",
       "      <td>-0.429160</td>\n",
       "      <td>-0.029599</td>\n",
       "      <td>-0.083949</td>\n",
       "      <td>-0.719251</td>\n",
       "      <td>-1.421248</td>\n",
       "      <td>-0.478971</td>\n",
       "      <td>-0.915464</td>\n",
       "      <td>6</td>\n",
       "      <td>0</td>\n",
       "      <td>1</td>\n",
       "      <td>white</td>\n",
       "    </tr>\n",
       "    <tr>\n",
       "      <th>6495</th>\n",
       "      <td>-1.323198</td>\n",
       "      <td>-0.301694</td>\n",
       "      <td>-0.128234</td>\n",
       "      <td>-0.912936</td>\n",
       "      <td>-0.971538</td>\n",
       "      <td>-0.593041</td>\n",
       "      <td>-0.101642</td>\n",
       "      <td>-2.003251</td>\n",
       "      <td>0.755710</td>\n",
       "      <td>-1.016626</td>\n",
       "      <td>1.935402</td>\n",
       "      <td>7</td>\n",
       "      <td>0</td>\n",
       "      <td>1</td>\n",
       "      <td>white</td>\n",
       "    </tr>\n",
       "    <tr>\n",
       "      <th>6496</th>\n",
       "      <td>-0.937495</td>\n",
       "      <td>-0.787650</td>\n",
       "      <td>0.422326</td>\n",
       "      <td>-0.975995</td>\n",
       "      <td>-1.028631</td>\n",
       "      <td>-0.480353</td>\n",
       "      <td>-0.313966</td>\n",
       "      <td>-1.763127</td>\n",
       "      <td>0.258120</td>\n",
       "      <td>-1.419867</td>\n",
       "      <td>1.096912</td>\n",
       "      <td>6</td>\n",
       "      <td>0</td>\n",
       "      <td>1</td>\n",
       "      <td>white</td>\n",
       "    </tr>\n",
       "  </tbody>\n",
       "</table>\n",
       "<p>6497 rows × 15 columns</p>\n",
       "</div>"
      ],
      "text/plain": [
       "      fixed_acidity  volatile_acidity  citric_acid  residual_sugar  chlorides  \\\n",
       "0          0.142473          2.188833    -2.192833       -0.744778   0.569958   \n",
       "1          0.451036          3.282235    -2.192833       -0.597640   1.197975   \n",
       "2          0.451036          2.553300    -1.917553       -0.660699   1.026697   \n",
       "3          3.073817         -0.362438     1.661085       -0.744778   0.541412   \n",
       "4          0.142473          2.188833    -2.192833       -0.744778   0.569958   \n",
       "...             ...               ...          ...             ...        ...   \n",
       "6492      -0.783214         -0.787650    -0.197054       -0.807837  -0.486252   \n",
       "6493      -0.474652         -0.119460     0.284686        0.537425  -0.257883   \n",
       "6494      -0.551792         -0.605417    -0.885253       -0.891916  -0.429160   \n",
       "6495      -1.323198         -0.301694    -0.128234       -0.912936  -0.971538   \n",
       "6496      -0.937495         -0.787650     0.422326       -0.975995  -1.028631   \n",
       "\n",
       "      free_sulfur_dioxide  total_sulfur_dioxide   density        pH  \\\n",
       "0               -1.100140             -1.446359  1.034993  1.813090   \n",
       "1               -0.311320             -0.862469  0.701486 -0.115073   \n",
       "2               -0.874763             -1.092486  0.768188  0.258120   \n",
       "3               -0.762074             -0.986324  1.101694 -0.363868   \n",
       "4               -1.100140             -1.446359  1.034993  1.813090   \n",
       "...                   ...                   ...       ...       ...   \n",
       "6492            -0.367664             -0.420128 -1.186161  0.320319   \n",
       "6493             1.491697              0.924588  0.067824 -0.426067   \n",
       "6494            -0.029599             -0.083949 -0.719251 -1.421248   \n",
       "6495            -0.593041             -0.101642 -2.003251  0.755710   \n",
       "6496            -0.480353             -0.313966 -1.763127  0.258120   \n",
       "\n",
       "      sulphates   alcohol  quality  color_red  color_white  color  \n",
       "0      0.193097 -0.915464        5          1            0    red  \n",
       "1      0.999579 -0.580068        5          1            0    red  \n",
       "2      0.797958 -0.580068        5          1            0    red  \n",
       "3      0.327510 -0.580068        6          1            0    red  \n",
       "4      0.193097 -0.915464        5          1            0    red  \n",
       "...         ...       ...      ...        ...          ...    ...  \n",
       "6492  -0.210144  0.593818        6          0            1  white  \n",
       "6493  -0.478971 -0.747766        5          0            1  white  \n",
       "6494  -0.478971 -0.915464        6          0            1  white  \n",
       "6495  -1.016626  1.935402        7          0            1  white  \n",
       "6496  -1.419867  1.096912        6          0            1  white  \n",
       "\n",
       "[6497 rows x 15 columns]"
      ]
     },
     "execution_count": 4,
     "metadata": {},
     "output_type": "execute_result"
    }
   ],
   "source": [
    "wines = pd.read_csv('./data/wine_quality_preprocessed.csv')\n",
    "wines"
   ]
  },
  {
   "cell_type": "markdown",
   "metadata": {},
   "source": [
    "## Model Tunning and Training Function for ML Models\n",
    "\n",
    "This function will find the best model hyperparameters combination and train said model given:\n",
    "- Model \n",
    "- Features & target\n",
    "- Parameter grid\n",
    "- Use case (Regression or Classification)"
   ]
  },
  {
   "cell_type": "code",
   "execution_count": 5,
   "metadata": {},
   "outputs": [],
   "source": [
    "def train(model, param_grid, X, y, case):\n",
    "\n",
    "    # Split Data\n",
    "    X_train, X_test, y_train, y_test = train_test_split(X, y, random_state=33, test_size=0.2)\n",
    "\n",
    "    # Case\n",
    "    scoring = None\n",
    "    if case == 'reg':\n",
    "        scoring = 'neg_mean_squared_error'\n",
    "    elif case == 'class':\n",
    "        scoring = 'accuracy'\n",
    "    else:\n",
    "        print(\"Invalid case. Please enter 'reg' or 'class'\")\n",
    "        return\n",
    "\n",
    "    # Find best features\n",
    "    selector = SelectKBest()\n",
    "    selector.fit(X_train, y_train)\n",
    "    mask = selector.get_support()\n",
    "    columns = X.columns[mask]\n",
    "\n",
    "    # Define training and test set with best features\n",
    "    X_train = X_train[columns]\n",
    "    X_test = X_test[columns]\n",
    "    \n",
    "    # Find best hyperparameters\n",
    "    grid_search = GridSearchCV(model, param_grid, cv=2, scoring=scoring, return_train_score=True, n_jobs=-1)\n",
    "    grid_search.fit(X_train, y_train)\n",
    "    results = pd.DataFrame(grid_search.cv_results_)\n",
    "    \n",
    "    # Best Model\n",
    "    model = grid_search.best_estimator_\n",
    "\n",
    "    # Test Model\n",
    "    if case == 'reg':\n",
    "        score = model.score(X_test, y_test)\n",
    "    elif case == 'class':\n",
    "        confusion_matrix = pd.crosstab(y_test, model.predict(X_test), rownames=['Actual'], colnames=['Predicted'])\n",
    "        score = [model.score(X_test, y_test), confusion_matrix]\n",
    "\n",
    "    return columns, model, results, score"
   ]
  },
  {
   "cell_type": "markdown",
   "metadata": {},
   "source": [
    "## Use of Case 1 - Predicting Wine Quality - ML"
   ]
  },
  {
   "cell_type": "code",
   "execution_count": 6,
   "metadata": {},
   "outputs": [],
   "source": [
    "# Models\n",
    "reggresion_models = {\n",
    "    'LogR': LogisticRegression(),\n",
    "    'RFR': RandomForestRegressor(),\n",
    "    'GBR': GradientBoostingRegressor(),\n",
    "    'MLP': MLPRegressor()   \n",
    "}\n",
    "\n",
    "# Hyperparameters\n",
    "param_grids = {\n",
    "    'LogR': {'C': [0.1, 1, 10, 100], \n",
    "             'max_iter': [10000], \n",
    "             'random_state': [33], \n",
    "             'solver': ['liblinear', 'sag', 'saga'],\n",
    "             'penalty': ['l2']},\n",
    "\n",
    "    'RFR': {'n_estimators': [10, 100, 1000], \n",
    "            'max_features': ['sqrt', 'log2'],\n",
    "            'random_state': [33], \n",
    "            'max_depth': [None, 5, 10, 15], \n",
    "            'min_samples_split': [2, 5, 10],\n",
    "            'min_samples_leaf': [1, 2, 4],\n",
    "            'bootstrap': [True, False]},\n",
    "\n",
    "    'GBR': {'n_estimators': [10, 100, 1000], \n",
    "            'max_features': ['sqrt', 'log2'], \n",
    "            'random_state': [33], \n",
    "            'learning_rate': [0.1, 0.01, 0.001], \n",
    "            'max_depth': [3, 5, 10],\n",
    "            'subsample': [0.5, 0.7, 1.0],\n",
    "            'min_samples_leaf': [1, 2, 4]},\n",
    "\n",
    "    'MLP': {'hidden_layer_sizes': [(10,), (50,), (100,)], \n",
    "            'activation': ['logistic', 'tanh', 'relu'], \n",
    "            'max_iter': [10000], \n",
    "            'random_state': [33], \n",
    "            'learning_rate': ['adaptive'],\n",
    "            'solver': ['lbfgs', 'sgd', 'adam'],\n",
    "            'alpha': [0.001, 0.01, 0.1]}\n",
    "}"
   ]
  },
  {
   "cell_type": "code",
   "execution_count": 7,
   "metadata": {},
   "outputs": [
    {
     "name": "stderr",
     "output_type": "stream",
     "text": [
      "  0%|          | 0/4 [00:00<?, ?it/s]"
     ]
    },
    {
     "name": "stdout",
     "output_type": "stream",
     "text": [
      "Training LogR...\n"
     ]
    },
    {
     "name": "stderr",
     "output_type": "stream",
     "text": [
      " 25%|██▌       | 1/4 [00:11<00:34, 11.49s/it]"
     ]
    },
    {
     "name": "stdout",
     "output_type": "stream",
     "text": [
      "Training RFR...\n"
     ]
    },
    {
     "name": "stderr",
     "output_type": "stream",
     "text": [
      " 50%|█████     | 2/4 [05:01<05:51, 175.56s/it]"
     ]
    },
    {
     "name": "stdout",
     "output_type": "stream",
     "text": [
      "Training GBR...\n"
     ]
    },
    {
     "name": "stderr",
     "output_type": "stream",
     "text": [
      " 75%|███████▌  | 3/4 [08:06<02:59, 179.89s/it]"
     ]
    },
    {
     "name": "stdout",
     "output_type": "stream",
     "text": [
      "Training MLP...\n"
     ]
    },
    {
     "name": "stderr",
     "output_type": "stream",
     "text": [
      "100%|██████████| 4/4 [16:02<00:00, 240.61s/it]\n"
     ]
    }
   ],
   "source": [
    "# Features Definition\n",
    "features = wines.drop(['quality', 'color'], axis=1)\n",
    "target = wines['quality']\n",
    "\n",
    "# Tune models\n",
    "results = {}\n",
    "for name, model in tqdm(reggresion_models.items()):\n",
    "    print(f'Training {name}...')\n",
    "    results[name] = train(model, param_grids[name], features, target, 'reg')"
   ]
  },
  {
   "cell_type": "code",
   "execution_count": 8,
   "metadata": {},
   "outputs": [],
   "source": [
    "# Comparison\n",
    "results_reg = pd.DataFrame()\n",
    "for name, (columns, model, res, score) in results.items():\n",
    "    res2 = {'name': name,\n",
    "            'type': 'regression',\n",
    "            'technique': 'ML',\n",
    "            'model': model,\n",
    "            'featrures': columns.tolist(),\n",
    "            'score': score}\n",
    "    results_reg = pd.concat([results_reg, pd.DataFrame([res2])])"
   ]
  },
  {
   "cell_type": "markdown",
   "metadata": {},
   "source": [
    "## Use of Case 2 - Classifying Wine Color - ML"
   ]
  },
  {
   "cell_type": "code",
   "execution_count": 9,
   "metadata": {},
   "outputs": [],
   "source": [
    "# Models\n",
    "classifications_models = {\n",
    "    'SVC': SVC(),\n",
    "    'RFC': RandomForestClassifier(),\n",
    "    'GBC': GradientBoostingClassifier(),\n",
    "    'MLP': MLPClassifier()\n",
    "}\n",
    "\n",
    "# Hyperparameters\n",
    "param_grids = {\n",
    "    'SVC': {'C': [0.1, 1, 10, 100], \n",
    "            'kernel': ['poly', 'rbf', 'sigmoid'], \n",
    "            'degree': [3, 6, 9], \n",
    "            'gamma': ['scale'], \n",
    "            'coef0': [0.1, 0.5, 0.9], \n",
    "            'shrinking': [True, False], \n",
    "            'tol': [0.001, 0.01, 0.1], \n",
    "            'cache_size': [400, 700, 1000], \n",
    "            'max_iter': [-1, 3000]},\n",
    "\n",
    "    'RFC': {'n_estimators': [10, 100, 1000], \n",
    "            'criterion': ['gini', 'entropy'], \n",
    "            'max_features': ['sqrt', 'log2'], \n",
    "            'random_state': [33], \n",
    "            'max_depth': [None, 5, 10, 15], \n",
    "            'min_samples_split': [2, 5, 10],\n",
    "            'min_samples_leaf': [1, 2, 4],\n",
    "            'bootstrap': [True, False]},\n",
    "\n",
    "    'GBC': {'n_estimators': [10, 100, 1000], \n",
    "            'max_features': ['sqrt', 'log2'], \n",
    "            'random_state': [33], \n",
    "            'learning_rate': [0.1, 0.01, 0.001], \n",
    "            'max_depth': [3, 5, 10],\n",
    "            'subsample': [0.5, 0.7, 1.0],\n",
    "            'min_samples_leaf': [1, 2, 4]},\n",
    "\n",
    "    'MLP': {'hidden_layer_sizes': [(10,), (50,), (100,)],\n",
    "            'activation': ['logistic', 'tanh', 'relu'],\n",
    "            'max_iter': [10000],\n",
    "            'random_state': [33],\n",
    "            'learning_rate': ['adaptive'],\n",
    "            'solver': ['lbfgs', 'sgd', 'adam'],\n",
    "            'alpha': [0.001, 0.01, 0.1]}\n",
    "}"
   ]
  },
  {
   "cell_type": "code",
   "execution_count": 10,
   "metadata": {},
   "outputs": [
    {
     "name": "stderr",
     "output_type": "stream",
     "text": [
      "  0%|          | 0/4 [00:00<?, ?it/s]"
     ]
    },
    {
     "name": "stdout",
     "output_type": "stream",
     "text": [
      "Training SVC...\n"
     ]
    },
    {
     "name": "stderr",
     "output_type": "stream",
     "text": [
      " 25%|██▌       | 1/4 [01:24<04:12, 84.33s/it]"
     ]
    },
    {
     "name": "stdout",
     "output_type": "stream",
     "text": [
      "Training RFC...\n"
     ]
    },
    {
     "name": "stderr",
     "output_type": "stream",
     "text": [
      " 50%|█████     | 2/4 [07:16<08:04, 242.08s/it]"
     ]
    },
    {
     "name": "stdout",
     "output_type": "stream",
     "text": [
      "Training GBC...\n"
     ]
    },
    {
     "name": "stderr",
     "output_type": "stream",
     "text": [
      " 75%|███████▌  | 3/4 [11:09<03:57, 237.83s/it]"
     ]
    },
    {
     "name": "stdout",
     "output_type": "stream",
     "text": [
      "Training MLP...\n"
     ]
    },
    {
     "name": "stderr",
     "output_type": "stream",
     "text": [
      "100%|██████████| 4/4 [11:52<00:00, 178.04s/it]\n"
     ]
    }
   ],
   "source": [
    "# Features\n",
    "features = wines.drop(['quality', 'color', 'color_red', 'color_white'], axis=1)\n",
    "target = wines['color']\n",
    "\n",
    "# Tune models\n",
    "results = {}\n",
    "for name, model in tqdm(classifications_models.items()):\n",
    "    print(f'Training {name}...')\n",
    "    results[name] = train(model, param_grids[name], features, target, 'class')"
   ]
  },
  {
   "cell_type": "code",
   "execution_count": 11,
   "metadata": {},
   "outputs": [],
   "source": [
    "# Comparison\n",
    "results_class = pd.DataFrame()\n",
    "for name, (columns, model, res, score) in results.items():\n",
    "\n",
    "    # Results\n",
    "    TP = score[1].iloc[0, 0]\n",
    "    TN = score[1].iloc[1, 1]\n",
    "    FP = score[1].iloc[0, 1]\n",
    "    FN = score[1].iloc[1, 0]\n",
    "    accuracy = score[0]\n",
    "    precision = TP / (TP + FP)\n",
    "    recall = TP / (TP + FN)\n",
    "    f1 = 2 * (precision * recall) / (precision + recall)\n",
    "\n",
    "    res2 = {'name': name,\n",
    "            'type': 'classification',\n",
    "            'technique': 'ML',\n",
    "            'model': model,\n",
    "            'featrures': columns.tolist(),\n",
    "            'TP': TP, 'TN': TN, 'FP': FP, 'FN': FN,\n",
    "            'accuracy': accuracy, 'precision': precision, 'recall': recall, 'f1': f1}            \n",
    "    results_class = pd.concat([results_class, pd.DataFrame([res2])])"
   ]
  },
  {
   "cell_type": "markdown",
   "metadata": {},
   "source": [
    "## Use of Case 3 - Predicting Wine Quality - DL"
   ]
  },
  {
   "cell_type": "code",
   "execution_count": 12,
   "metadata": {},
   "outputs": [
    {
     "name": "stderr",
     "output_type": "stream",
     "text": [
      "  0%|          | 0/600 [00:00<?, ?it/s]"
     ]
    },
    {
     "name": "stderr",
     "output_type": "stream",
     "text": [
      "100%|██████████| 600/600 [00:03<00:00, 160.43it/s]\n"
     ]
    },
    {
     "data": {
      "image/png": "[encoded data removed]",
      "text/plain": [
       "<Figure size 720x360 with 1 Axes>"
      ]
     },
     "metadata": {
      "needs_background": "light"
     },
     "output_type": "display_data"
    }
   ],
   "source": [
    "# Load the dataset\n",
    "features = wines.drop(['quality', 'color'], axis=1).to_numpy()\n",
    "target = wines['quality'].to_numpy()\n",
    "target = target.reshape(-1, 1)\n",
    "\n",
    "# Split the dataset into training and test sets\n",
    "features, test_features, target, test_target = train_test_split(features, target, test_size=0.2, random_state=33)\n",
    "train_features, val_features, train_target, val_target = train_test_split(features, target, test_size=0.1, random_state=33)\n",
    "\n",
    "# Model\n",
    "class RegressionModel(nn.Module):\n",
    "    def __init__(self):\n",
    "        super(RegressionModel, self).__init__()\n",
    "        self.fc1 = nn.Linear(len(features[0]), 64)\n",
    "        self.fc2 = nn.Linear(64, 32)  # Hidden layer to another hidden layer\n",
    "        self.fc3 = nn.Linear(32, 1)  # Last hidden layer to output\n",
    "\n",
    "    def forward(self, x):\n",
    "        x = torch.relu(self.fc1(x))  # Apply ReLU activation to hidden layers\n",
    "        x = torch.relu(self.fc2(x))\n",
    "        return self.fc3(x)\n",
    "\n",
    "model = RegressionModel()\n",
    "\n",
    "# Define loss function and optimizer (same as before)\n",
    "criterion = nn.MSELoss()\n",
    "optimizer = optim.SGD(model.parameters(), lr=0.01)\n",
    "\n",
    "# Training loop (similar to previous example)\n",
    "t_loss = []\n",
    "v_loss = []\n",
    "for epoch in tqdm(range(600)):\n",
    "\n",
    "    # Train\n",
    "    optimizer.zero_grad()\n",
    "    outputs = model(torch.tensor(features, dtype=torch.float32))\n",
    "    loss = criterion(outputs, torch.tensor(target, dtype=torch.float32))\n",
    "    loss.backward()\n",
    "    optimizer.step()\n",
    "    t_loss.append(loss.item())\n",
    "\n",
    "    # Validation\n",
    "    with torch.no_grad():\n",
    "        val_outputs = model(torch.tensor(val_features, dtype=torch.float32))\n",
    "        val_loss = criterion(val_outputs, torch.tensor(val_target, dtype=torch.float32))\n",
    "        v_loss.append(val_loss.item())\n",
    "\n",
    "# Training Evolution\n",
    "plt.figure(figsize=(10, 5))\n",
    "plt.plot(t_loss, label='Train Loss')\n",
    "plt.plot(v_loss, label='Validation Loss')\n",
    "plt.xlabel('Epochs')\n",
    "plt.ylabel('Loss')\n",
    "plt.title('Training Loss')\n",
    "plt.text(460, 2.5, f'Final Train Loss: {t_loss[-1]:.2f}\\nFinal Validation Loss: {v_loss[-1]:.2f}')\n",
    "plt.legend()\n",
    "plt.show()\n",
    "\n",
    "# Test\n",
    "with torch.no_grad():\n",
    "    test_outputs = model(torch.tensor(test_features, dtype=torch.float32))\n",
    "    test_loss = criterion(test_outputs, torch.tensor(test_target, dtype=torch.float32))\n",
    "    res = {'name': 'NN',\n",
    "           'type': 'regression',\n",
    "\t\t   'technique': 'DL',\n",
    "\t\t   'model': model,\n",
    "\t\t   'featrures': 'All',\n",
    "\t\t   'score': test_loss.item()}\n",
    "    results_reg = pd.concat([results_reg, pd.DataFrame([res])])"
   ]
  },
  {
   "cell_type": "markdown",
   "metadata": {},
   "source": [
    "## Use of Case 4 - Classifying Wine Color - DL"
   ]
  },
  {
   "cell_type": "code",
   "execution_count": 13,
   "metadata": {},
   "outputs": [
    {
     "name": "stderr",
     "output_type": "stream",
     "text": [
      "100%|██████████| 600/600 [00:03<00:00, 150.64it/s]\n"
     ]
    },
    {
     "data": {
      "image/png": "[encoded data removed]",
      "text/plain": [
       "<Figure size 720x360 with 1 Axes>"
      ]
     },
     "metadata": {
      "needs_background": "light"
     },
     "output_type": "display_data"
    }
   ],
   "source": [
    "# Load the dataset\n",
    "features = wines.drop(['quality', 'color', 'color_red', 'color_white'], axis=1).to_numpy()\n",
    "target = wines['color'].map({'red': 0, 'white': 1}).to_numpy()\n",
    "target = target.reshape(-1, 1)\n",
    "\n",
    "# Split the dataset into training and test sets\n",
    "features, test_features, target, test_target = train_test_split(features, target, test_size=0.2, random_state=33)\n",
    "train_features, val_features, train_target, val_target = train_test_split(features, target, test_size=0.1, random_state=33)\n",
    "\n",
    "# Model\n",
    "class ClassificationModel(nn.Module):\n",
    "    def __init__(self):\n",
    "        super(ClassificationModel, self).__init__()\n",
    "        self.fc1 = nn.Linear(len(features[0]), 64)\n",
    "        self.fc2 = nn.Linear(64, 32)  # Hidden layer to another hidden layer\n",
    "        self.fc3 = nn.Linear(32, 1)  # Last hidden layer to output\n",
    "\n",
    "    def forward(self, x):\n",
    "        x = torch.relu(self.fc1(x))  # Apply ReLU activation to hidden layers\n",
    "        x = torch.relu(self.fc2(x))\n",
    "        return torch.sigmoid(self.fc3(x))\n",
    "\n",
    "# Instantiate the updated model\n",
    "model = ClassificationModel()\n",
    "\n",
    "# Define loss function and optimizer (same as before)\n",
    "criterion = nn.BCELoss()\n",
    "optimizer = optim.Adam(model.parameters(), lr=0.001)\n",
    "\n",
    "# Training loop (similar to previous example)\n",
    "t_loss = []\n",
    "v_loss = []\n",
    "for epoch in tqdm(range(600)):\n",
    "\n",
    "    # Train\n",
    "    optimizer.zero_grad()\n",
    "    outputs = model(torch.tensor(features, dtype=torch.float32))\n",
    "    loss = criterion(outputs, torch.tensor(target, dtype=torch.float32))\n",
    "    loss.backward()\n",
    "    optimizer.step()\n",
    "    t_loss.append(loss.item())\n",
    "\n",
    "    # Validation\n",
    "    with torch.no_grad():\n",
    "        val_outputs = model(torch.tensor(val_features, dtype=torch.float32))\n",
    "        val_loss = criterion(val_outputs, torch.tensor(val_target, dtype=torch.float32))\n",
    "        v_loss.append(val_loss.item())\n",
    "\n",
    "# Training Evolution\n",
    "plt.figure(figsize=(10, 5))\n",
    "plt.plot(t_loss, label='Train Loss')\n",
    "plt.plot(v_loss, label='Validation Loss')\n",
    "plt.xlabel('Epochs')\n",
    "plt.ylabel('Loss')\n",
    "plt.title('Training Loss')\n",
    "plt.text(460, 0.05, f'Final Train Loss: {t_loss[-1]:.2f}\\nFinal Validation Loss: {v_loss[-1]:.2f}')\n",
    "plt.legend()\n",
    "plt.show()\n",
    "\n",
    "# Test\n",
    "with torch.no_grad():\n",
    "    test_outputs = model(torch.tensor(test_features, dtype=torch.float32))\n",
    "    test_loss = criterion(test_outputs, torch.tensor(test_target, dtype=torch.float32))\n",
    "\n",
    "# Confusion Matrix\n",
    "y_pred = test_outputs.numpy()\n",
    "y_pred = (y_pred > 0.5).astype(int)\n",
    "y_true = test_target\n",
    "confusion_matrix = pd.crosstab(y_true[:, 0], y_pred[:, 0], rownames=['Actual'], colnames=['Predicted'])\n",
    "\n",
    "# Measures\n",
    "tp = confusion_matrix[0][0]\n",
    "tn = confusion_matrix[1][1]\n",
    "fp = confusion_matrix[0][1]\n",
    "fn = confusion_matrix[1][0]\n",
    "\n",
    "res = {'name': 'NN',\n",
    "       'type': 'classification',\n",
    "\t   'technique': 'DL',\n",
    "\t   'model': model,\n",
    "\t   'featrures': 'All',\n",
    "\t   'TP': tp, 'TN': tn, 'FP': fp, 'FN': fn,\n",
    "\t   'accuracy': (tp + tn) / (tp + tn + fp + fn),\n",
    "\t   'precision': tp / (tp + fp),\n",
    "\t   'recall': tp / (tp + fn),\n",
    "\t   'f1': 2 * (tp / (tp + fp)) * (tp / (tp + fn)) / ((tp / (tp + fp)) + (tp / (tp + fn)))}\n",
    "results_class = pd.concat([results_class, pd.DataFrame([res])])"
   ]
  },
  {
   "cell_type": "markdown",
   "metadata": {},
   "source": [
    "## Comparison of Models"
   ]
  },
  {
   "cell_type": "code",
   "execution_count": 14,
   "metadata": {},
   "outputs": [
    {
     "data": {
      "text/html": [
       "<div>\n",
       "<style scoped>\n",
       "    .dataframe tbody tr th:only-of-type {\n",
       "        vertical-align: middle;\n",
       "    }\n",
       "\n",
       "    .dataframe tbody tr th {\n",
       "        vertical-align: top;\n",
       "    }\n",
       "\n",
       "    .dataframe thead th {\n",
       "        text-align: right;\n",
       "    }\n",
       "</style>\n",
       "<table border=\"1\" class=\"dataframe\">\n",
       "  <thead>\n",
       "    <tr style=\"text-align: right;\">\n",
       "      <th></th>\n",
       "      <th>name</th>\n",
       "      <th>type</th>\n",
       "      <th>technique</th>\n",
       "      <th>model</th>\n",
       "      <th>featrures</th>\n",
       "      <th>score</th>\n",
       "    </tr>\n",
       "  </thead>\n",
       "  <tbody>\n",
       "    <tr>\n",
       "      <th>0</th>\n",
       "      <td>LogR</td>\n",
       "      <td>regression</td>\n",
       "      <td>ML</td>\n",
       "      <td>LogisticRegression(C=1, max_iter=10000, random...</td>\n",
       "      <td>[volatile_acidity, citric_acid, residual_sugar...</td>\n",
       "      <td>0.532308</td>\n",
       "    </tr>\n",
       "    <tr>\n",
       "      <th>0</th>\n",
       "      <td>RFR</td>\n",
       "      <td>regression</td>\n",
       "      <td>ML</td>\n",
       "      <td>(DecisionTreeRegressor(max_features='sqrt', ra...</td>\n",
       "      <td>[volatile_acidity, citric_acid, residual_sugar...</td>\n",
       "      <td>0.509545</td>\n",
       "    </tr>\n",
       "    <tr>\n",
       "      <th>0</th>\n",
       "      <td>GBR</td>\n",
       "      <td>regression</td>\n",
       "      <td>ML</td>\n",
       "      <td>([DecisionTreeRegressor(criterion='friedman_ms...</td>\n",
       "      <td>[volatile_acidity, citric_acid, residual_sugar...</td>\n",
       "      <td>0.499309</td>\n",
       "    </tr>\n",
       "    <tr>\n",
       "      <th>0</th>\n",
       "      <td>MLP</td>\n",
       "      <td>regression</td>\n",
       "      <td>ML</td>\n",
       "      <td>MLPRegressor(alpha=0.001, learning_rate='adapt...</td>\n",
       "      <td>[volatile_acidity, citric_acid, residual_sugar...</td>\n",
       "      <td>0.359066</td>\n",
       "    </tr>\n",
       "    <tr>\n",
       "      <th>0</th>\n",
       "      <td>NN</td>\n",
       "      <td>regression</td>\n",
       "      <td>DL</td>\n",
       "      <td>RegressionModel(\\n  (fc1): Linear(in_features=...</td>\n",
       "      <td>All</td>\n",
       "      <td>0.564212</td>\n",
       "    </tr>\n",
       "  </tbody>\n",
       "</table>\n",
       "</div>"
      ],
      "text/plain": [
       "   name        type technique  \\\n",
       "0  LogR  regression        ML   \n",
       "0   RFR  regression        ML   \n",
       "0   GBR  regression        ML   \n",
       "0   MLP  regression        ML   \n",
       "0    NN  regression        DL   \n",
       "\n",
       "                                               model  \\\n",
       "0  LogisticRegression(C=1, max_iter=10000, random...   \n",
       "0  (DecisionTreeRegressor(max_features='sqrt', ra...   \n",
       "0  ([DecisionTreeRegressor(criterion='friedman_ms...   \n",
       "0  MLPRegressor(alpha=0.001, learning_rate='adapt...   \n",
       "0  RegressionModel(\\n  (fc1): Linear(in_features=...   \n",
       "\n",
       "                                           featrures     score  \n",
       "0  [volatile_acidity, citric_acid, residual_sugar...  0.532308  \n",
       "0  [volatile_acidity, citric_acid, residual_sugar...  0.509545  \n",
       "0  [volatile_acidity, citric_acid, residual_sugar...  0.499309  \n",
       "0  [volatile_acidity, citric_acid, residual_sugar...  0.359066  \n",
       "0                                                All  0.564212  "
      ]
     },
     "execution_count": 14,
     "metadata": {},
     "output_type": "execute_result"
    }
   ],
   "source": [
    "# Regression models results\n",
    "results_reg"
   ]
  },
  {
   "cell_type": "code",
   "execution_count": 15,
   "metadata": {},
   "outputs": [
    {
     "data": {
      "text/html": [
       "<div>\n",
       "<style scoped>\n",
       "    .dataframe tbody tr th:only-of-type {\n",
       "        vertical-align: middle;\n",
       "    }\n",
       "\n",
       "    .dataframe tbody tr th {\n",
       "        vertical-align: top;\n",
       "    }\n",
       "\n",
       "    .dataframe thead th {\n",
       "        text-align: right;\n",
       "    }\n",
       "</style>\n",
       "<table border=\"1\" class=\"dataframe\">\n",
       "  <thead>\n",
       "    <tr style=\"text-align: right;\">\n",
       "      <th></th>\n",
       "      <th>name</th>\n",
       "      <th>type</th>\n",
       "      <th>technique</th>\n",
       "      <th>model</th>\n",
       "      <th>featrures</th>\n",
       "      <th>TP</th>\n",
       "      <th>TN</th>\n",
       "      <th>FP</th>\n",
       "      <th>FN</th>\n",
       "      <th>accuracy</th>\n",
       "      <th>precision</th>\n",
       "      <th>recall</th>\n",
       "      <th>f1</th>\n",
       "    </tr>\n",
       "  </thead>\n",
       "  <tbody>\n",
       "    <tr>\n",
       "      <th>0</th>\n",
       "      <td>SVC</td>\n",
       "      <td>classification</td>\n",
       "      <td>ML</td>\n",
       "      <td>SVC(C=1, cache_size=400, coef0=0.5, kernel='po...</td>\n",
       "      <td>[fixed_acidity, volatile_acidity, citric_acid,...</td>\n",
       "      <td>317</td>\n",
       "      <td>976</td>\n",
       "      <td>6</td>\n",
       "      <td>1</td>\n",
       "      <td>0.994615</td>\n",
       "      <td>0.981424</td>\n",
       "      <td>0.996855</td>\n",
       "      <td>0.989080</td>\n",
       "    </tr>\n",
       "    <tr>\n",
       "      <th>0</th>\n",
       "      <td>RFC</td>\n",
       "      <td>classification</td>\n",
       "      <td>ML</td>\n",
       "      <td>(DecisionTreeClassifier(criterion='entropy', m...</td>\n",
       "      <td>[fixed_acidity, volatile_acidity, citric_acid,...</td>\n",
       "      <td>319</td>\n",
       "      <td>976</td>\n",
       "      <td>4</td>\n",
       "      <td>1</td>\n",
       "      <td>0.996154</td>\n",
       "      <td>0.987616</td>\n",
       "      <td>0.996875</td>\n",
       "      <td>0.992224</td>\n",
       "    </tr>\n",
       "    <tr>\n",
       "      <th>0</th>\n",
       "      <td>GBC</td>\n",
       "      <td>classification</td>\n",
       "      <td>ML</td>\n",
       "      <td>([DecisionTreeRegressor(criterion='friedman_ms...</td>\n",
       "      <td>[fixed_acidity, volatile_acidity, citric_acid,...</td>\n",
       "      <td>318</td>\n",
       "      <td>977</td>\n",
       "      <td>5</td>\n",
       "      <td>0</td>\n",
       "      <td>0.996154</td>\n",
       "      <td>0.984520</td>\n",
       "      <td>1.000000</td>\n",
       "      <td>0.992200</td>\n",
       "    </tr>\n",
       "    <tr>\n",
       "      <th>0</th>\n",
       "      <td>MLP</td>\n",
       "      <td>classification</td>\n",
       "      <td>ML</td>\n",
       "      <td>MLPClassifier(alpha=0.1, learning_rate='adapti...</td>\n",
       "      <td>[fixed_acidity, volatile_acidity, citric_acid,...</td>\n",
       "      <td>319</td>\n",
       "      <td>977</td>\n",
       "      <td>4</td>\n",
       "      <td>0</td>\n",
       "      <td>0.996923</td>\n",
       "      <td>0.987616</td>\n",
       "      <td>1.000000</td>\n",
       "      <td>0.993769</td>\n",
       "    </tr>\n",
       "    <tr>\n",
       "      <th>0</th>\n",
       "      <td>NN</td>\n",
       "      <td>classification</td>\n",
       "      <td>DL</td>\n",
       "      <td>ClassificationModel(\\n  (fc1): Linear(in_featu...</td>\n",
       "      <td>All</td>\n",
       "      <td>320</td>\n",
       "      <td>977</td>\n",
       "      <td>0</td>\n",
       "      <td>3</td>\n",
       "      <td>0.997692</td>\n",
       "      <td>1.000000</td>\n",
       "      <td>0.990712</td>\n",
       "      <td>0.995334</td>\n",
       "    </tr>\n",
       "  </tbody>\n",
       "</table>\n",
       "</div>"
      ],
      "text/plain": [
       "  name            type technique  \\\n",
       "0  SVC  classification        ML   \n",
       "0  RFC  classification        ML   \n",
       "0  GBC  classification        ML   \n",
       "0  MLP  classification        ML   \n",
       "0   NN  classification        DL   \n",
       "\n",
       "                                               model  \\\n",
       "0  SVC(C=1, cache_size=400, coef0=0.5, kernel='po...   \n",
       "0  (DecisionTreeClassifier(criterion='entropy', m...   \n",
       "0  ([DecisionTreeRegressor(criterion='friedman_ms...   \n",
       "0  MLPClassifier(alpha=0.1, learning_rate='adapti...   \n",
       "0  ClassificationModel(\\n  (fc1): Linear(in_featu...   \n",
       "\n",
       "                                           featrures   TP   TN  FP  FN  \\\n",
       "0  [fixed_acidity, volatile_acidity, citric_acid,...  317  976   6   1   \n",
       "0  [fixed_acidity, volatile_acidity, citric_acid,...  319  976   4   1   \n",
       "0  [fixed_acidity, volatile_acidity, citric_acid,...  318  977   5   0   \n",
       "0  [fixed_acidity, volatile_acidity, citric_acid,...  319  977   4   0   \n",
       "0                                                All  320  977   0   3   \n",
       "\n",
       "   accuracy  precision    recall        f1  \n",
       "0  0.994615   0.981424  0.996855  0.989080  \n",
       "0  0.996154   0.987616  0.996875  0.992224  \n",
       "0  0.996154   0.984520  1.000000  0.992200  \n",
       "0  0.996923   0.987616  1.000000  0.993769  \n",
       "0  0.997692   1.000000  0.990712  0.995334  "
      ]
     },
     "execution_count": 15,
     "metadata": {},
     "output_type": "execute_result"
    }
   ],
   "source": [
    "# Classification models results\n",
    "results_class"
   ]
  },
  {
   "cell_type": "code",
   "execution_count": 16,
   "metadata": {},
   "outputs": [
    {
     "data": {
      "text/html": [
       "<div>\n",
       "<style scoped>\n",
       "    .dataframe tbody tr th:only-of-type {\n",
       "        vertical-align: middle;\n",
       "    }\n",
       "\n",
       "    .dataframe tbody tr th {\n",
       "        vertical-align: top;\n",
       "    }\n",
       "\n",
       "    .dataframe thead th {\n",
       "        text-align: right;\n",
       "    }\n",
       "</style>\n",
       "<table border=\"1\" class=\"dataframe\">\n",
       "  <thead>\n",
       "    <tr style=\"text-align: right;\">\n",
       "      <th></th>\n",
       "      <th>name</th>\n",
       "      <th>type</th>\n",
       "      <th>technique</th>\n",
       "      <th>model</th>\n",
       "      <th>featrures</th>\n",
       "      <th>score</th>\n",
       "    </tr>\n",
       "  </thead>\n",
       "  <tbody>\n",
       "    <tr>\n",
       "      <th>0</th>\n",
       "      <td>NN</td>\n",
       "      <td>regression</td>\n",
       "      <td>DL</td>\n",
       "      <td>RegressionModel(\\n  (fc1): Linear(in_features=...</td>\n",
       "      <td>All</td>\n",
       "      <td>0.564212</td>\n",
       "    </tr>\n",
       "  </tbody>\n",
       "</table>\n",
       "</div>"
      ],
      "text/plain": [
       "  name        type technique  \\\n",
       "0   NN  regression        DL   \n",
       "\n",
       "                                               model featrures     score  \n",
       "0  RegressionModel(\\n  (fc1): Linear(in_features=...       All  0.564212  "
      ]
     },
     "execution_count": 16,
     "metadata": {},
     "output_type": "execute_result"
    }
   ],
   "source": [
    "# Best regression model\n",
    "results_reg[results_reg['score'] == results_reg['score'].max()]\n"
   ]
  },
  {
   "cell_type": "code",
   "execution_count": 17,
   "metadata": {},
   "outputs": [
    {
     "data": {
      "text/html": [
       "<div>\n",
       "<style scoped>\n",
       "    .dataframe tbody tr th:only-of-type {\n",
       "        vertical-align: middle;\n",
       "    }\n",
       "\n",
       "    .dataframe tbody tr th {\n",
       "        vertical-align: top;\n",
       "    }\n",
       "\n",
       "    .dataframe thead th {\n",
       "        text-align: right;\n",
       "    }\n",
       "</style>\n",
       "<table border=\"1\" class=\"dataframe\">\n",
       "  <thead>\n",
       "    <tr style=\"text-align: right;\">\n",
       "      <th></th>\n",
       "      <th>name</th>\n",
       "      <th>type</th>\n",
       "      <th>technique</th>\n",
       "      <th>model</th>\n",
       "      <th>featrures</th>\n",
       "      <th>TP</th>\n",
       "      <th>TN</th>\n",
       "      <th>FP</th>\n",
       "      <th>FN</th>\n",
       "      <th>accuracy</th>\n",
       "      <th>precision</th>\n",
       "      <th>recall</th>\n",
       "      <th>f1</th>\n",
       "    </tr>\n",
       "  </thead>\n",
       "  <tbody>\n",
       "    <tr>\n",
       "      <th>0</th>\n",
       "      <td>NN</td>\n",
       "      <td>classification</td>\n",
       "      <td>DL</td>\n",
       "      <td>ClassificationModel(\\n  (fc1): Linear(in_featu...</td>\n",
       "      <td>All</td>\n",
       "      <td>320</td>\n",
       "      <td>977</td>\n",
       "      <td>0</td>\n",
       "      <td>3</td>\n",
       "      <td>0.997692</td>\n",
       "      <td>1.0</td>\n",
       "      <td>0.990712</td>\n",
       "      <td>0.995334</td>\n",
       "    </tr>\n",
       "  </tbody>\n",
       "</table>\n",
       "</div>"
      ],
      "text/plain": [
       "  name            type technique  \\\n",
       "0   NN  classification        DL   \n",
       "\n",
       "                                               model featrures   TP   TN  FP  \\\n",
       "0  ClassificationModel(\\n  (fc1): Linear(in_featu...       All  320  977   0   \n",
       "\n",
       "   FN  accuracy  precision    recall        f1  \n",
       "0   3  0.997692        1.0  0.990712  0.995334  "
      ]
     },
     "execution_count": 17,
     "metadata": {},
     "output_type": "execute_result"
    }
   ],
   "source": [
    "# Best classification model\n",
    "results_class[results_class['accuracy'] == results_class['accuracy'].max()]"
   ]
  },
  {
   "cell_type": "markdown",
   "metadata": {},
   "source": [
    "After training all models, and without any surprise, the bests model for both use cases are the Deep Learning models."
   ]
  }
 ],
 "metadata": {
  "kernelspec": {
   "display_name": "base",
   "language": "python",
   "name": "python3"
  },
  "language_info": {
   "codemirror_mode": {
    "name": "ipython",
    "version": 3
   },
   "file_extension": ".py",
   "mimetype": "text/x-python",
   "name": "python",
   "nbconvert_exporter": "python",
   "pygments_lexer": "ipython3",
   "version": "3.9.12"
  }
 },
 "nbformat": 4,
 "nbformat_minor": 2
}
